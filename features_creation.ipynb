{
 "cells": [
  {
   "cell_type": "code",
   "execution_count": 49,
   "metadata": {},
   "outputs": [],
   "source": [
    "import pandas as pd\n",
    "import pickle\n",
    "from sklearn.model_selection import train_test_split\n",
    "from sklearn.feature_extraction.text import TfidfVectorizer\n",
    "\n",
    "import text_preprocessor as tp"
   ]
  },
  {
   "cell_type": "code",
   "execution_count": 5,
   "metadata": {},
   "outputs": [],
   "source": [
    "file_path = 'pickles/dataset.pickle'\n",
    "with open(file_path, 'rb') as data:\n",
    "    df = pickle.load(data)"
   ]
  },
  {
   "cell_type": "code",
   "execution_count": 6,
   "metadata": {},
   "outputs": [
    {
     "data": {
      "text/html": [
       "<div>\n",
       "<style scoped>\n",
       "    .dataframe tbody tr th:only-of-type {\n",
       "        vertical-align: middle;\n",
       "    }\n",
       "\n",
       "    .dataframe tbody tr th {\n",
       "        vertical-align: top;\n",
       "    }\n",
       "\n",
       "    .dataframe thead th {\n",
       "        text-align: right;\n",
       "    }\n",
       "</style>\n",
       "<table border=\"1\" class=\"dataframe\">\n",
       "  <thead>\n",
       "    <tr style=\"text-align: right;\">\n",
       "      <th></th>\n",
       "      <th>Unnamed: 0</th>\n",
       "      <th>contents</th>\n",
       "      <th>category</th>\n",
       "      <th>News_length</th>\n",
       "    </tr>\n",
       "  </thead>\n",
       "  <tbody>\n",
       "    <tr>\n",
       "      <th>0</th>\n",
       "      <td>0</td>\n",
       "      <td>Chinese exports rise 25% in 2004\\n\\nExports fr...</td>\n",
       "      <td>business</td>\n",
       "      <td>1784</td>\n",
       "    </tr>\n",
       "    <tr>\n",
       "      <th>1</th>\n",
       "      <td>1</td>\n",
       "      <td>S Korea spending boost to economy\\n\\nSouth Kor...</td>\n",
       "      <td>business</td>\n",
       "      <td>2600</td>\n",
       "    </tr>\n",
       "    <tr>\n",
       "      <th>2</th>\n",
       "      <td>2</td>\n",
       "      <td>Bush budget seeks deep cutbacks\\n\\nPresident B...</td>\n",
       "      <td>business</td>\n",
       "      <td>3651</td>\n",
       "    </tr>\n",
       "    <tr>\n",
       "      <th>3</th>\n",
       "      <td>3</td>\n",
       "      <td>MG Rover China tie-up 'delayed'\\n\\nMG Rover's ...</td>\n",
       "      <td>business</td>\n",
       "      <td>1697</td>\n",
       "    </tr>\n",
       "    <tr>\n",
       "      <th>4</th>\n",
       "      <td>4</td>\n",
       "      <td>French suitor holds LSE meeting\\n\\nEuropean st...</td>\n",
       "      <td>business</td>\n",
       "      <td>2450</td>\n",
       "    </tr>\n",
       "  </tbody>\n",
       "</table>\n",
       "</div>"
      ],
      "text/plain": [
       "   Unnamed: 0                                           contents  category  \\\n",
       "0           0  Chinese exports rise 25% in 2004\\n\\nExports fr...  business   \n",
       "1           1  S Korea spending boost to economy\\n\\nSouth Kor...  business   \n",
       "2           2  Bush budget seeks deep cutbacks\\n\\nPresident B...  business   \n",
       "3           3  MG Rover China tie-up 'delayed'\\n\\nMG Rover's ...  business   \n",
       "4           4  French suitor holds LSE meeting\\n\\nEuropean st...  business   \n",
       "\n",
       "   News_length  \n",
       "0         1784  \n",
       "1         2600  \n",
       "2         3651  \n",
       "3         1697  \n",
       "4         2450  "
      ]
     },
     "execution_count": 6,
     "metadata": {},
     "output_type": "execute_result"
    }
   ],
   "source": [
    "df.head()"
   ]
  },
  {
   "cell_type": "code",
   "execution_count": 21,
   "metadata": {},
   "outputs": [
    {
     "data": {
      "text/plain": [
       "'S Korea spending boost to economy\\n\\nSouth Korea will boost state spending next year in an effort to create jobs and kick start its sputtering economy.\\n\\nIt has earmarked 100 trillion won ($96bn) for the first six months of 2005, 60% of its total annual budget. The government\\'s main problems are \"slumping consumption and a contraction in the construction industry\". It aims to create 400,000 jobs and will focus on infrastructure and home building, as well as providing public firms with money to hire new workers.\\n\\nThe government has set an economic growth rate target of 5% for next year and hinted that would be in danger unless it took action. \"Internal and external economic conditions are likely to remain unfavourable in 2005,\" the Finance and Economy Ministry said in a statement.\\n\\nIt blamed \"continuing uncertainties such as fluctuating oil prices and foreign exchange rates and stagnant domestic demand that has shown few signs of a quick rebound\". In 2004, growth will be between 4.7% and 4.8%, the ministry said. Not everyone is convinced the plan will work. \"Our primary worry centres on the what we believe is the government\\'s overly optimistic view that its front loading of the budget will be enough to turn the economy around,\" consultancy 4Cast said in a report.\\n\\nThe problem facing South Korea is that many consumers are reeling from the effects of a credit bubble that only recently burst. Millions of South Koreans are defaulting on their credit card bills, and the country\\'s biggest card lender has been hovering on the verge of bankruptcy for months. As part of its spending plans, the government said it will ask firms to \"roll over mortgage loans that come due in the first half of 2005\" . It also pledged to look at ways of helping families on low incomes.\\n\\nThe government voiced concern about the effect of redundancies in the building trade. \"Given the economic spill over and employment effect in the construction sector, a sharp downturn in the construction industry could have other adverse effects,\" the ministry said.\\n\\nAs a result, South Korea will give private companies also will be given the chance to build schools, hospitals, houses and other public buildings. It also will look at real estate tax system. Other plans on the table include promoting new industries such as bio-technology and nano-technology, as well as offering increased support to small and medium sized businesses. \"The focus will be on job creation and economic recovery, given that unfavourable domestic and global conditions are likely to dog the Korean economy in 2005,\" the ministry said.\\n'"
      ]
     },
     "execution_count": 21,
     "metadata": {},
     "output_type": "execute_result"
    }
   ],
   "source": [
    "df.loc[1]['contents']"
   ]
  },
  {
   "cell_type": "markdown",
   "metadata": {},
   "source": [
    "### Text Cleaning"
   ]
  },
  {
   "cell_type": "code",
   "execution_count": 23,
   "metadata": {},
   "outputs": [],
   "source": [
    "df['cleaned_txt'] = df['contents'].str.lower()"
   ]
  },
  {
   "cell_type": "code",
   "execution_count": 24,
   "metadata": {},
   "outputs": [],
   "source": [
    "df['cleaned_txt'] = df['cleaned_txt'].apply(tp.remove_html_tags)"
   ]
  },
  {
   "cell_type": "code",
   "execution_count": 25,
   "metadata": {},
   "outputs": [],
   "source": [
    "df['cleaned_txt'] = df['cleaned_txt'].apply(tp.remove_accented_chars)"
   ]
  },
  {
   "cell_type": "code",
   "execution_count": 31,
   "metadata": {},
   "outputs": [],
   "source": [
    "df['cleaned_txt'] = df['cleaned_txt'].apply(tp.remove_special_chars, remove_digits=True)"
   ]
  },
  {
   "cell_type": "code",
   "execution_count": 33,
   "metadata": {},
   "outputs": [],
   "source": [
    "df['cleaned_txt'] = df['cleaned_txt'].apply(tp.lemmatize_text)"
   ]
  },
  {
   "cell_type": "code",
   "execution_count": 34,
   "metadata": {},
   "outputs": [
    {
     "data": {
      "text/html": [
       "<div>\n",
       "<style scoped>\n",
       "    .dataframe tbody tr th:only-of-type {\n",
       "        vertical-align: middle;\n",
       "    }\n",
       "\n",
       "    .dataframe tbody tr th {\n",
       "        vertical-align: top;\n",
       "    }\n",
       "\n",
       "    .dataframe thead th {\n",
       "        text-align: right;\n",
       "    }\n",
       "</style>\n",
       "<table border=\"1\" class=\"dataframe\">\n",
       "  <thead>\n",
       "    <tr style=\"text-align: right;\">\n",
       "      <th></th>\n",
       "      <th>Unnamed: 0</th>\n",
       "      <th>contents</th>\n",
       "      <th>category</th>\n",
       "      <th>News_length</th>\n",
       "      <th>cleaned_txt</th>\n",
       "    </tr>\n",
       "  </thead>\n",
       "  <tbody>\n",
       "    <tr>\n",
       "      <th>0</th>\n",
       "      <td>0</td>\n",
       "      <td>Chinese exports rise 25% in 2004\\n\\nExports fr...</td>\n",
       "      <td>business</td>\n",
       "      <td>1784</td>\n",
       "      <td>chinese export rise   in \\n\\n export from chin...</td>\n",
       "    </tr>\n",
       "    <tr>\n",
       "      <th>1</th>\n",
       "      <td>1</td>\n",
       "      <td>S Korea spending boost to economy\\n\\nSouth Kor...</td>\n",
       "      <td>business</td>\n",
       "      <td>2600</td>\n",
       "      <td>s korea spending boost to economy \\n\\n south k...</td>\n",
       "    </tr>\n",
       "    <tr>\n",
       "      <th>2</th>\n",
       "      <td>2</td>\n",
       "      <td>Bush budget seeks deep cutbacks\\n\\nPresident B...</td>\n",
       "      <td>business</td>\n",
       "      <td>3651</td>\n",
       "      <td>bush budget seek deep cutback \\n\\n president b...</td>\n",
       "    </tr>\n",
       "    <tr>\n",
       "      <th>3</th>\n",
       "      <td>3</td>\n",
       "      <td>MG Rover China tie-up 'delayed'\\n\\nMG Rover's ...</td>\n",
       "      <td>business</td>\n",
       "      <td>1697</td>\n",
       "      <td>mg rover china tieup delay \\n\\n mg rover propo...</td>\n",
       "    </tr>\n",
       "    <tr>\n",
       "      <th>4</th>\n",
       "      <td>4</td>\n",
       "      <td>French suitor holds LSE meeting\\n\\nEuropean st...</td>\n",
       "      <td>business</td>\n",
       "      <td>2450</td>\n",
       "      <td>french suitor hold lse meet \\n\\n european stoc...</td>\n",
       "    </tr>\n",
       "  </tbody>\n",
       "</table>\n",
       "</div>"
      ],
      "text/plain": [
       "   Unnamed: 0                                           contents  category  \\\n",
       "0           0  Chinese exports rise 25% in 2004\\n\\nExports fr...  business   \n",
       "1           1  S Korea spending boost to economy\\n\\nSouth Kor...  business   \n",
       "2           2  Bush budget seeks deep cutbacks\\n\\nPresident B...  business   \n",
       "3           3  MG Rover China tie-up 'delayed'\\n\\nMG Rover's ...  business   \n",
       "4           4  French suitor holds LSE meeting\\n\\nEuropean st...  business   \n",
       "\n",
       "   News_length                                        cleaned_txt  \n",
       "0         1784  chinese export rise   in \\n\\n export from chin...  \n",
       "1         2600  s korea spending boost to economy \\n\\n south k...  \n",
       "2         3651  bush budget seek deep cutback \\n\\n president b...  \n",
       "3         1697  mg rover china tieup delay \\n\\n mg rover propo...  \n",
       "4         2450  french suitor hold lse meet \\n\\n european stoc...  "
      ]
     },
     "execution_count": 34,
     "metadata": {},
     "output_type": "execute_result"
    }
   ],
   "source": [
    "df.head()"
   ]
  },
  {
   "cell_type": "code",
   "execution_count": 37,
   "metadata": {},
   "outputs": [
    {
     "data": {
      "text/plain": [
       "'s korea spending boost to economy \\n\\n south korea will boost state spending next year in an effort to create job and kick start its sputter economy \\n\\n it have earmark   trillion win bn for the first six month of    of its total annual budget the government main problem be slump consumption and a contraction in the construction industry it aim to create   job and will focus on infrastructure and home building as well as provide public firm with money to hire new worker \\n\\n the government have set an economic growth rate target of   for next year and hint that would be in danger unless it take action internal and external economic condition be likely to remain unfavourable in   the finance and economy ministry say in a statement \\n\\n it blame continue uncertainty such as fluctuate oil price and foreign exchange rate and stagnant domestic demand that have show few sign of a quick rebound in   growth will be between   and   the ministry say not everyone be convince the plan will work our primary worry centre on the what we believe be the government overly optimistic view that its front loading of the budget will be enough to turn the economy around consultancy cast say in a report \\n\\n the problem face south korea be that many consumer be reel from the effect of a credit bubble that only recently burst million of south koreans be default on their credit card bill and the country big card lender have be hover on the verge of bankruptcy for month as part of its spending plan the government say it will ask firm to roll over mortgage loan that come due in the first half of    it also pledge to look at way of help family on low income \\n\\n the government voice concern about the effect of redundancy in the building trade give the economic spill over and employment effect in the construction sector a sharp downturn in the construction industry could have other adverse effect the ministry say \\n\\n as a result south korea will give private company also will be give the chance to build school hospital house and other public building it also will look at real estate tax system other plan on the table include promote new industry such as biotechnology and nanotechnology as well as offer increase support to small and medium sized business the focus will be on job creation and economic recovery give that unfavourable domestic and global condition be likely to dog the korean economy in   the ministry say \\n'"
      ]
     },
     "execution_count": 37,
     "metadata": {},
     "output_type": "execute_result"
    }
   ],
   "source": [
    "df.loc[1]['cleaned_txt']"
   ]
  },
  {
   "cell_type": "code",
   "execution_count": 40,
   "metadata": {},
   "outputs": [],
   "source": [
    "df['cleaned_txt'] = df['cleaned_txt'].str.replace('\\n', ' ')\n",
    "df['cleaned_txt'] = df['cleaned_txt'].str.replace('\\r', ' ')"
   ]
  },
  {
   "cell_type": "code",
   "execution_count": 41,
   "metadata": {},
   "outputs": [
    {
     "data": {
      "text/plain": [
       "'s korea spending boost to economy    south korea will boost state spending next year in an effort to create job and kick start its sputter economy    it have earmark   trillion win bn for the first six month of    of its total annual budget the government main problem be slump consumption and a contraction in the construction industry it aim to create   job and will focus on infrastructure and home building as well as provide public firm with money to hire new worker    the government have set an economic growth rate target of   for next year and hint that would be in danger unless it take action internal and external economic condition be likely to remain unfavourable in   the finance and economy ministry say in a statement    it blame continue uncertainty such as fluctuate oil price and foreign exchange rate and stagnant domestic demand that have show few sign of a quick rebound in   growth will be between   and   the ministry say not everyone be convince the plan will work our primary worry centre on the what we believe be the government overly optimistic view that its front loading of the budget will be enough to turn the economy around consultancy cast say in a report    the problem face south korea be that many consumer be reel from the effect of a credit bubble that only recently burst million of south koreans be default on their credit card bill and the country big card lender have be hover on the verge of bankruptcy for month as part of its spending plan the government say it will ask firm to roll over mortgage loan that come due in the first half of    it also pledge to look at way of help family on low income    the government voice concern about the effect of redundancy in the building trade give the economic spill over and employment effect in the construction sector a sharp downturn in the construction industry could have other adverse effect the ministry say    as a result south korea will give private company also will be give the chance to build school hospital house and other public building it also will look at real estate tax system other plan on the table include promote new industry such as biotechnology and nanotechnology as well as offer increase support to small and medium sized business the focus will be on job creation and economic recovery give that unfavourable domestic and global condition be likely to dog the korean economy in   the ministry say  '"
      ]
     },
     "execution_count": 41,
     "metadata": {},
     "output_type": "execute_result"
    }
   ],
   "source": [
    "df.loc[1]['cleaned_txt']"
   ]
  },
  {
   "cell_type": "code",
   "execution_count": 42,
   "metadata": {},
   "outputs": [],
   "source": [
    "df['cleaned_txt'] = df['cleaned_txt'].apply(tp.remove_stopwords)"
   ]
  },
  {
   "cell_type": "code",
   "execution_count": 44,
   "metadata": {},
   "outputs": [
    {
     "data": {
      "text/plain": [
       "'korea spending boost economy south korea boost state spending next year effort create job kick start sputter economy earmark trillion win bn first six month total annual budget government main problem slump consumption contraction construction industry aim create job focus infrastructure home building well provide public firm money hire new worker government set economic growth rate target next year hint would danger unless take action internal external economic condition likely remain unfavourable finance economy ministry say statement blame continue uncertainty fluctuate oil price foreign exchange rate stagnant domestic demand show sign quick rebound growth ministry say everyone convince plan work primary worry centre believe government overly optimistic view front loading budget enough turn economy around consultancy cast say report problem face south korea many consumer reel effect credit bubble recently burst million south koreans default credit card bill country big card lender hover verge bankruptcy month part spending plan government say ask firm roll mortgage loan come due first half also pledge look way help family low income government voice concern effect redundancy building trade give economic spill employment effect construction sector sharp downturn construction industry could adverse effect ministry say result south korea give private company also give chance build school hospital house public building also look real estate tax system plan table include promote new industry biotechnology nanotechnology well offer increase support small medium sized business focus job creation economic recovery give unfavourable domestic global condition likely dog korean economy ministry say'"
      ]
     },
     "execution_count": 44,
     "metadata": {},
     "output_type": "execute_result"
    }
   ],
   "source": [
    "df.loc[1]['cleaned_txt']"
   ]
  },
  {
   "cell_type": "markdown",
   "metadata": {},
   "source": [
    "### Label Encoding"
   ]
  },
  {
   "cell_type": "code",
   "execution_count": 45,
   "metadata": {},
   "outputs": [
    {
     "data": {
      "text/plain": [
       "array(['business', 'entertainment', 'sport', 'politics', 'tech'],\n",
       "      dtype=object)"
      ]
     },
     "execution_count": 45,
     "metadata": {},
     "output_type": "execute_result"
    }
   ],
   "source": [
    "df['category'].unique()"
   ]
  },
  {
   "cell_type": "code",
   "execution_count": 46,
   "metadata": {},
   "outputs": [],
   "source": [
    "category_codes = {\n",
    "    'business':0,\n",
    "    'entertainment':1,\n",
    "    'sport':2,\n",
    "    'politics':3,\n",
    "    'tech':4\n",
    "}"
   ]
  },
  {
   "cell_type": "code",
   "execution_count": 47,
   "metadata": {},
   "outputs": [],
   "source": [
    "df['category_code'] = df['category']\n",
    "df = df.replace({'category_code':category_codes})"
   ]
  },
  {
   "cell_type": "code",
   "execution_count": 48,
   "metadata": {},
   "outputs": [
    {
     "data": {
      "text/html": [
       "<div>\n",
       "<style scoped>\n",
       "    .dataframe tbody tr th:only-of-type {\n",
       "        vertical-align: middle;\n",
       "    }\n",
       "\n",
       "    .dataframe tbody tr th {\n",
       "        vertical-align: top;\n",
       "    }\n",
       "\n",
       "    .dataframe thead th {\n",
       "        text-align: right;\n",
       "    }\n",
       "</style>\n",
       "<table border=\"1\" class=\"dataframe\">\n",
       "  <thead>\n",
       "    <tr style=\"text-align: right;\">\n",
       "      <th></th>\n",
       "      <th>Unnamed: 0</th>\n",
       "      <th>contents</th>\n",
       "      <th>category</th>\n",
       "      <th>News_length</th>\n",
       "      <th>cleaned_txt</th>\n",
       "      <th>category_code</th>\n",
       "    </tr>\n",
       "  </thead>\n",
       "  <tbody>\n",
       "    <tr>\n",
       "      <th>0</th>\n",
       "      <td>0</td>\n",
       "      <td>Chinese exports rise 25% in 2004\\n\\nExports fr...</td>\n",
       "      <td>business</td>\n",
       "      <td>1784</td>\n",
       "      <td>chinese export rise export china leapt previou...</td>\n",
       "      <td>0</td>\n",
       "    </tr>\n",
       "    <tr>\n",
       "      <th>1</th>\n",
       "      <td>1</td>\n",
       "      <td>S Korea spending boost to economy\\n\\nSouth Kor...</td>\n",
       "      <td>business</td>\n",
       "      <td>2600</td>\n",
       "      <td>korea spending boost economy south korea boost...</td>\n",
       "      <td>0</td>\n",
       "    </tr>\n",
       "    <tr>\n",
       "      <th>2</th>\n",
       "      <td>2</td>\n",
       "      <td>Bush budget seeks deep cutbacks\\n\\nPresident B...</td>\n",
       "      <td>business</td>\n",
       "      <td>3651</td>\n",
       "      <td>bush budget seek deep cutback president bush p...</td>\n",
       "      <td>0</td>\n",
       "    </tr>\n",
       "    <tr>\n",
       "      <th>3</th>\n",
       "      <td>3</td>\n",
       "      <td>MG Rover China tie-up 'delayed'\\n\\nMG Rover's ...</td>\n",
       "      <td>business</td>\n",
       "      <td>1697</td>\n",
       "      <td>mg rover china tieup delay mg rover propose ti...</td>\n",
       "      <td>0</td>\n",
       "    </tr>\n",
       "    <tr>\n",
       "      <th>4</th>\n",
       "      <td>4</td>\n",
       "      <td>French suitor holds LSE meeting\\n\\nEuropean st...</td>\n",
       "      <td>business</td>\n",
       "      <td>2450</td>\n",
       "      <td>french suitor hold lse meet european stock mar...</td>\n",
       "      <td>0</td>\n",
       "    </tr>\n",
       "  </tbody>\n",
       "</table>\n",
       "</div>"
      ],
      "text/plain": [
       "   Unnamed: 0                                           contents  category  \\\n",
       "0           0  Chinese exports rise 25% in 2004\\n\\nExports fr...  business   \n",
       "1           1  S Korea spending boost to economy\\n\\nSouth Kor...  business   \n",
       "2           2  Bush budget seeks deep cutbacks\\n\\nPresident B...  business   \n",
       "3           3  MG Rover China tie-up 'delayed'\\n\\nMG Rover's ...  business   \n",
       "4           4  French suitor holds LSE meeting\\n\\nEuropean st...  business   \n",
       "\n",
       "   News_length                                        cleaned_txt  \\\n",
       "0         1784  chinese export rise export china leapt previou...   \n",
       "1         2600  korea spending boost economy south korea boost...   \n",
       "2         3651  bush budget seek deep cutback president bush p...   \n",
       "3         1697  mg rover china tieup delay mg rover propose ti...   \n",
       "4         2450  french suitor hold lse meet european stock mar...   \n",
       "\n",
       "   category_code  \n",
       "0              0  \n",
       "1              0  \n",
       "2              0  \n",
       "3              0  \n",
       "4              0  "
      ]
     },
     "execution_count": 48,
     "metadata": {},
     "output_type": "execute_result"
    }
   ],
   "source": [
    "df.head()"
   ]
  },
  {
   "cell_type": "code",
   "execution_count": 50,
   "metadata": {},
   "outputs": [],
   "source": [
    "X_train, X_test, Y_train, Y_test = train_test_split(df['cleaned_txt'], df['category_code'], \n",
    "                                                    test_size = 0.2, random_state=8)"
   ]
  },
  {
   "cell_type": "code",
   "execution_count": 54,
   "metadata": {},
   "outputs": [
    {
     "data": {
      "text/plain": [
       "(1779,)"
      ]
     },
     "execution_count": 54,
     "metadata": {},
     "output_type": "execute_result"
    }
   ],
   "source": [
    "X_train.shape"
   ]
  },
  {
   "cell_type": "code",
   "execution_count": 58,
   "metadata": {},
   "outputs": [
    {
     "data": {
      "text/plain": [
       "(445,)"
      ]
     },
     "execution_count": 58,
     "metadata": {},
     "output_type": "execute_result"
    }
   ],
   "source": [
    "X_test.shape\n"
   ]
  },
  {
   "cell_type": "markdown",
   "metadata": {},
   "source": [
    "### TF-IDF Vectors"
   ]
  },
  {
   "cell_type": "code",
   "execution_count": 59,
   "metadata": {},
   "outputs": [],
   "source": [
    "tfidf = TfidfVectorizer(encoding='utf-8',\n",
    "                       ngram_range=(1,2),\n",
    "                       lowercase=False,\n",
    "                       max_df=1.0,\n",
    "                       min_df=10,\n",
    "                       max_features=300,\n",
    "                       norm='l2',\n",
    "                       sublinear_tf=True)"
   ]
  },
  {
   "cell_type": "code",
   "execution_count": 65,
   "metadata": {},
   "outputs": [
    {
     "name": "stdout",
     "output_type": "stream",
     "text": [
      "(1779, 300)\n"
     ]
    }
   ],
   "source": [
    "train_features = tfidf.fit_transform(X_train).toarray()\n",
    "train_labels = Y_train\n",
    "print(train_features.shape)"
   ]
  },
  {
   "cell_type": "code",
   "execution_count": 66,
   "metadata": {},
   "outputs": [
    {
     "name": "stdout",
     "output_type": "stream",
     "text": [
      "(445, 300)\n"
     ]
    }
   ],
   "source": [
    "test_features = tfidf.transform(X_test).toarray()\n",
    "test_labels = Y_test\n",
    "print(test_features.shape)"
   ]
  },
  {
   "cell_type": "code",
   "execution_count": 68,
   "metadata": {},
   "outputs": [
    {
     "data": {
      "text/plain": [
       "array([[0.        , 0.        , 0.        , ..., 0.        , 0.06910465,\n",
       "        0.        ],\n",
       "       [0.        , 0.        , 0.        , ..., 0.        , 0.        ,\n",
       "        0.        ],\n",
       "       [0.        , 0.        , 0.        , ..., 0.15695373, 0.        ,\n",
       "        0.        ],\n",
       "       ...,\n",
       "       [0.        , 0.        , 0.        , ..., 0.16056925, 0.06280318,\n",
       "        0.        ],\n",
       "       [0.        , 0.        , 0.        , ..., 0.        , 0.09878994,\n",
       "        0.        ],\n",
       "       [0.        , 0.08900973, 0.        , ..., 0.10556865, 0.04695112,\n",
       "        0.        ]])"
      ]
     },
     "execution_count": 68,
     "metadata": {},
     "output_type": "execute_result"
    }
   ],
   "source": [
    "train_features"
   ]
  },
  {
   "cell_type": "markdown",
   "metadata": {},
   "source": [
    "Save the objects in files"
   ]
  },
  {
   "cell_type": "code",
   "execution_count": 70,
   "metadata": {},
   "outputs": [],
   "source": [
    "#X_train\n",
    "with open('pickles/X_train.pickle', 'wb') as output:\n",
    "    pickle.dump(X_train, output)"
   ]
  },
  {
   "cell_type": "code",
   "execution_count": 71,
   "metadata": {},
   "outputs": [],
   "source": [
    "#X_test\n",
    "with open('pickles/X_test.pickle', 'wb') as output:\n",
    "    pickle.dump(X_test, output)"
   ]
  },
  {
   "cell_type": "code",
   "execution_count": 73,
   "metadata": {},
   "outputs": [],
   "source": [
    "#Y_train\n",
    "with open('pickles/Y_train.pickle', 'wb') as output:\n",
    "    pickle.dump(Y_train, output)"
   ]
  },
  {
   "cell_type": "code",
   "execution_count": 74,
   "metadata": {},
   "outputs": [],
   "source": [
    "#Y_test\n",
    "with open('pickles/Y_test.pickle', 'wb') as output:\n",
    "    pickle.dump(Y_test, output)"
   ]
  },
  {
   "cell_type": "code",
   "execution_count": 79,
   "metadata": {},
   "outputs": [],
   "source": [
    "#train_features\n",
    "with open('pickles/train_features.pickle', 'wb') as output:\n",
    "    pickle.dump(train_features, output)"
   ]
  },
  {
   "cell_type": "code",
   "execution_count": 80,
   "metadata": {},
   "outputs": [],
   "source": [
    "#test_features\n",
    "with open('pickles/test_features.pickle', 'wb') as output:\n",
    "    pickle.dump(test_features, output)"
   ]
  },
  {
   "cell_type": "code",
   "execution_count": 81,
   "metadata": {},
   "outputs": [],
   "source": [
    "#train_labels\n",
    "with open('pickles/train_labels.pickle', 'wb') as output:\n",
    "    pickle.dump(train_labels, output)"
   ]
  },
  {
   "cell_type": "code",
   "execution_count": 82,
   "metadata": {},
   "outputs": [],
   "source": [
    "#test_labels\n",
    "with open('pickles/test_labels.pickle', 'wb') as output:\n",
    "    pickle.dump(test_labels, output)"
   ]
  },
  {
   "cell_type": "code",
   "execution_count": 83,
   "metadata": {},
   "outputs": [],
   "source": [
    "#tfidf\n",
    "with open('pickles/tfidf.pickle', 'wb') as output:\n",
    "    pickle.dump(tfidf, output)"
   ]
  },
  {
   "cell_type": "code",
   "execution_count": null,
   "metadata": {},
   "outputs": [],
   "source": []
  }
 ],
 "metadata": {
  "kernelspec": {
   "display_name": "Python 3",
   "language": "python",
   "name": "python3"
  },
  "language_info": {
   "codemirror_mode": {
    "name": "ipython",
    "version": 3
   },
   "file_extension": ".py",
   "mimetype": "text/x-python",
   "name": "python",
   "nbconvert_exporter": "python",
   "pygments_lexer": "ipython3",
   "version": "3.7.1"
  }
 },
 "nbformat": 4,
 "nbformat_minor": 2
}
