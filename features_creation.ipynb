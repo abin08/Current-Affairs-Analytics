{
 "cells": [
  {
   "cell_type": "code",
   "execution_count": 6,
   "metadata": {},
   "outputs": [],
   "source": [
    "import pandas as pd\n",
    "import pickle\n",
    "from sklearn.model_selection import train_test_split\n",
    "from sklearn.feature_extraction.text import TfidfVectorizer\n",
    "\n",
    "import text_preprocessor as tp"
   ]
  },
  {
   "cell_type": "code",
   "execution_count": 7,
   "metadata": {},
   "outputs": [],
   "source": [
    "file_path = 'pickles/dataset.pickle'\n",
    "with open(file_path, 'rb') as data:\n",
    "    df = pickle.load(data)"
   ]
  },
  {
   "cell_type": "code",
   "execution_count": 8,
   "metadata": {},
   "outputs": [
    {
     "data": {
      "text/html": [
       "<div>\n",
       "<style scoped>\n",
       "    .dataframe tbody tr th:only-of-type {\n",
       "        vertical-align: middle;\n",
       "    }\n",
       "\n",
       "    .dataframe tbody tr th {\n",
       "        vertical-align: top;\n",
       "    }\n",
       "\n",
       "    .dataframe thead th {\n",
       "        text-align: right;\n",
       "    }\n",
       "</style>\n",
       "<table border=\"1\" class=\"dataframe\">\n",
       "  <thead>\n",
       "    <tr style=\"text-align: right;\">\n",
       "      <th></th>\n",
       "      <th>Unnamed: 0</th>\n",
       "      <th>contents</th>\n",
       "      <th>category</th>\n",
       "      <th>News_length</th>\n",
       "    </tr>\n",
       "  </thead>\n",
       "  <tbody>\n",
       "    <tr>\n",
       "      <th>0</th>\n",
       "      <td>0</td>\n",
       "      <td>Kilroy unveils immigration policy\\n\\nEx-chatsh...</td>\n",
       "      <td>politics</td>\n",
       "      <td>957</td>\n",
       "    </tr>\n",
       "    <tr>\n",
       "      <th>1</th>\n",
       "      <td>1</td>\n",
       "      <td>'Debate needed' on donations cap\\n\\nA cap on d...</td>\n",
       "      <td>politics</td>\n",
       "      <td>3001</td>\n",
       "    </tr>\n",
       "    <tr>\n",
       "      <th>2</th>\n",
       "      <td>2</td>\n",
       "      <td>Child access laws shake-up\\n\\nParents who refu...</td>\n",
       "      <td>politics</td>\n",
       "      <td>3536</td>\n",
       "    </tr>\n",
       "    <tr>\n",
       "      <th>3</th>\n",
       "      <td>3</td>\n",
       "      <td>School sport 'is back', says PM\\n\\nTony Blair ...</td>\n",
       "      <td>politics</td>\n",
       "      <td>2410</td>\n",
       "    </tr>\n",
       "    <tr>\n",
       "      <th>4</th>\n",
       "      <td>4</td>\n",
       "      <td>Pre-poll clash on tax and spend\\n\\nLabour and ...</td>\n",
       "      <td>politics</td>\n",
       "      <td>2637</td>\n",
       "    </tr>\n",
       "  </tbody>\n",
       "</table>\n",
       "</div>"
      ],
      "text/plain": [
       "   Unnamed: 0                                           contents  category  \\\n",
       "0           0  Kilroy unveils immigration policy\\n\\nEx-chatsh...  politics   \n",
       "1           1  'Debate needed' on donations cap\\n\\nA cap on d...  politics   \n",
       "2           2  Child access laws shake-up\\n\\nParents who refu...  politics   \n",
       "3           3  School sport 'is back', says PM\\n\\nTony Blair ...  politics   \n",
       "4           4  Pre-poll clash on tax and spend\\n\\nLabour and ...  politics   \n",
       "\n",
       "   News_length  \n",
       "0          957  \n",
       "1         3001  \n",
       "2         3536  \n",
       "3         2410  \n",
       "4         2637  "
      ]
     },
     "execution_count": 8,
     "metadata": {},
     "output_type": "execute_result"
    }
   ],
   "source": [
    "df.head()"
   ]
  },
  {
   "cell_type": "code",
   "execution_count": 9,
   "metadata": {},
   "outputs": [
    {
     "data": {
      "text/plain": [
       "'\\'Debate needed\\' on donations cap\\n\\nA cap on donations to political parties should not be introduced yet, the elections watchdog has said.\\n\\nFears that big donors can buy political favours have sparked calls for a limit. In a new report, the Electoral Commission says it is worth debating a £10,000 cap for the future but now is not the right time to introduce it. It also says there should be more state funding for political parties and candidates should be able to spend more on election campaigning.\\n\\nThere were almost £68m in reported donations to political parties in 2001, 2002 and 2003, with nearly £12m of them from individual gifts worth more than £1m. The rules have already been changed so the public can see who gives how much to the parties but the report says there are still public suspicions. The commission says capping donations would mean taxpayers giving parties more cash - something which would first have to be acceptable to the public and shown to work. \"While we are not in principle opposed to the introduction of a donation cap, we do not believe that such a major departure from the existing system now would be sensible,\" says its report. If there was to be a cap, it should be £10,000 - a small enough amount to make a difference but which would have banned £56m in donations between 2001 and 2003.\\n\\nEven without changes the commission does urge political parties to seek out more small-scale donations and suggests there should be income tax relief for gifts under £200. It also suggests increasing state funding for parties to £3m so help can be extended to all parties with at least two members in the House of Commons, European Parliament, Scottish Parliament, Welsh Assembly or Northern Ireland Assembly. And it suggests new ways of boosting election campaigning, seen as a way of improving voter turnout. All local election candidates should be entitled to a free mailshot for campaign leaflets, says the watchdog. And there should be a shift in the amount of money allowed to be spent at elections from a national level to a local level to help politicians engage better with voters.\\n\\nThe report suggests doubling the money which can be spent by candidates, while cutting national spending limits from £20m to £15m. The commission also says the spending limits for general elections should cover the four months before the poll - as happens with other elections. Electoral Commission chairman Sam Younger said: \"There is no doubt that political parties have a vital role to play in maintaining the health of our democracy and for this they need to be adequately resourced. \"Our research has shown that people want to be more informed about party politics and that they want politicians to be more visible and accessible. \"The public are reluctant for the state to fund parties but at the same time are unhappy with large private donations.\" He called for a wider public debate on party funding to find the consensus needed for radical changes to the current system.\\n'"
      ]
     },
     "execution_count": 9,
     "metadata": {},
     "output_type": "execute_result"
    }
   ],
   "source": [
    "df.loc[1]['contents']"
   ]
  },
  {
   "cell_type": "markdown",
   "metadata": {},
   "source": [
    "### Text Cleaning"
   ]
  },
  {
   "cell_type": "code",
   "execution_count": 10,
   "metadata": {},
   "outputs": [],
   "source": [
    "df['cleaned_txt'] = df['contents'].str.lower()"
   ]
  },
  {
   "cell_type": "code",
   "execution_count": 11,
   "metadata": {},
   "outputs": [],
   "source": [
    "df['cleaned_txt'] = df['cleaned_txt'].apply(tp.remove_html_tags)"
   ]
  },
  {
   "cell_type": "code",
   "execution_count": 12,
   "metadata": {},
   "outputs": [],
   "source": [
    "df['cleaned_txt'] = df['cleaned_txt'].apply(tp.remove_accented_chars)"
   ]
  },
  {
   "cell_type": "code",
   "execution_count": 13,
   "metadata": {},
   "outputs": [],
   "source": [
    "df['cleaned_txt'] = df['cleaned_txt'].apply(tp.remove_special_chars, remove_digits=True)"
   ]
  },
  {
   "cell_type": "code",
   "execution_count": 14,
   "metadata": {},
   "outputs": [],
   "source": [
    "df['cleaned_txt'] = df['cleaned_txt'].apply(tp.lemmatize_text)"
   ]
  },
  {
   "cell_type": "code",
   "execution_count": 15,
   "metadata": {},
   "outputs": [
    {
     "data": {
      "text/html": [
       "<div>\n",
       "<style scoped>\n",
       "    .dataframe tbody tr th:only-of-type {\n",
       "        vertical-align: middle;\n",
       "    }\n",
       "\n",
       "    .dataframe tbody tr th {\n",
       "        vertical-align: top;\n",
       "    }\n",
       "\n",
       "    .dataframe thead th {\n",
       "        text-align: right;\n",
       "    }\n",
       "</style>\n",
       "<table border=\"1\" class=\"dataframe\">\n",
       "  <thead>\n",
       "    <tr style=\"text-align: right;\">\n",
       "      <th></th>\n",
       "      <th>Unnamed: 0</th>\n",
       "      <th>contents</th>\n",
       "      <th>category</th>\n",
       "      <th>News_length</th>\n",
       "      <th>cleaned_txt</th>\n",
       "    </tr>\n",
       "  </thead>\n",
       "  <tbody>\n",
       "    <tr>\n",
       "      <th>0</th>\n",
       "      <td>0</td>\n",
       "      <td>Kilroy unveils immigration policy\\n\\nEx-chatsh...</td>\n",
       "      <td>politics</td>\n",
       "      <td>957</td>\n",
       "      <td>kilroy unveil immigration policy \\n\\n exchatsh...</td>\n",
       "    </tr>\n",
       "    <tr>\n",
       "      <th>1</th>\n",
       "      <td>1</td>\n",
       "      <td>'Debate needed' on donations cap\\n\\nA cap on d...</td>\n",
       "      <td>politics</td>\n",
       "      <td>3001</td>\n",
       "      <td>debate need on donation cap \\n\\n a cap on dona...</td>\n",
       "    </tr>\n",
       "    <tr>\n",
       "      <th>2</th>\n",
       "      <td>2</td>\n",
       "      <td>Child access laws shake-up\\n\\nParents who refu...</td>\n",
       "      <td>politics</td>\n",
       "      <td>3536</td>\n",
       "      <td>child access law shakeup \\n\\n parent who refus...</td>\n",
       "    </tr>\n",
       "    <tr>\n",
       "      <th>3</th>\n",
       "      <td>3</td>\n",
       "      <td>School sport 'is back', says PM\\n\\nTony Blair ...</td>\n",
       "      <td>politics</td>\n",
       "      <td>2410</td>\n",
       "      <td>school sport be back say pm \\n\\n tony blair ha...</td>\n",
       "    </tr>\n",
       "    <tr>\n",
       "      <th>4</th>\n",
       "      <td>4</td>\n",
       "      <td>Pre-poll clash on tax and spend\\n\\nLabour and ...</td>\n",
       "      <td>politics</td>\n",
       "      <td>2637</td>\n",
       "      <td>prepoll clash on tax and spend \\n\\n labour and...</td>\n",
       "    </tr>\n",
       "  </tbody>\n",
       "</table>\n",
       "</div>"
      ],
      "text/plain": [
       "   Unnamed: 0                                           contents  category  \\\n",
       "0           0  Kilroy unveils immigration policy\\n\\nEx-chatsh...  politics   \n",
       "1           1  'Debate needed' on donations cap\\n\\nA cap on d...  politics   \n",
       "2           2  Child access laws shake-up\\n\\nParents who refu...  politics   \n",
       "3           3  School sport 'is back', says PM\\n\\nTony Blair ...  politics   \n",
       "4           4  Pre-poll clash on tax and spend\\n\\nLabour and ...  politics   \n",
       "\n",
       "   News_length                                        cleaned_txt  \n",
       "0          957  kilroy unveil immigration policy \\n\\n exchatsh...  \n",
       "1         3001  debate need on donation cap \\n\\n a cap on dona...  \n",
       "2         3536  child access law shakeup \\n\\n parent who refus...  \n",
       "3         2410  school sport be back say pm \\n\\n tony blair ha...  \n",
       "4         2637  prepoll clash on tax and spend \\n\\n labour and...  "
      ]
     },
     "execution_count": 15,
     "metadata": {},
     "output_type": "execute_result"
    }
   ],
   "source": [
    "df.head()"
   ]
  },
  {
   "cell_type": "code",
   "execution_count": 16,
   "metadata": {},
   "outputs": [
    {
     "data": {
      "text/plain": [
       "'debate need on donation cap \\n\\n a cap on donation to political party should not be introduce yet the election watchdog have say \\n\\n fear that big donor can buy political favour have spark call for a limit in a new report the electoral commission say it be worth debate a   cap for the future but now be not the right time to introduce it it also say there should be more state funding for political party and candidate should be able to spend more on election campaigning \\n\\n there be almost m in report donation to political party in    and   with nearly m of them from individual gift worth more than m the rule have already be change so the public can see who give how much to the party but the report say there be still public suspicion the commission say capping donation would mean taxpayer give party more cash   something which would first have to be acceptable to the public and show to work while we be not in principle oppose to the introduction of a donation cap we do not believe that such a major departure from the exist system now would be sensible say its report if there be to be a cap it should be    a small enough amount to make a difference but which would have ban m in donation between   and \\n\\n even without change the commission do urge political party to seek out more smallscale donation and suggest there should be income tax relief for gift under   it also suggest increase state funding for party to m so help can be extend to all party with at least two member in the house of commons european parliament scottish parliament welsh assembly or northern ireland assembly and it suggest new way of boost election campaigning see as a way of improve voter turnout all local election candidate should be entitle to a free mailshot for campaign leaflet say the watchdog and there should be a shift in the amount of money allow to be spend at election from a national level to a local level to help politician engage better with voter \\n\\n the report suggest double the money which can be spend by candidate while cut national spending limit from m to m the commission also say the spending limit for general election should cover the four month before the poll   as happen with other election electoral commission chairman sam younger say there be no doubt that political party have a vital role to play in maintain the health of our democracy and for this they need to be adequately resource our research have show that people want to be more informed about party politic and that they want politician to be more visible and accessible the public be reluctant for the state to fund party but at the same time be unhappy with large private donation he call for a wide public debate on party funding to find the consensus need for radical change to the current system \\n'"
      ]
     },
     "execution_count": 16,
     "metadata": {},
     "output_type": "execute_result"
    }
   ],
   "source": [
    "df.loc[1]['cleaned_txt']"
   ]
  },
  {
   "cell_type": "code",
   "execution_count": 17,
   "metadata": {},
   "outputs": [],
   "source": [
    "df['cleaned_txt'] = df['cleaned_txt'].str.replace('\\n', ' ')\n",
    "df['cleaned_txt'] = df['cleaned_txt'].str.replace('\\r', ' ')"
   ]
  },
  {
   "cell_type": "code",
   "execution_count": 18,
   "metadata": {},
   "outputs": [
    {
     "data": {
      "text/plain": [
       "'debate need on donation cap    a cap on donation to political party should not be introduce yet the election watchdog have say    fear that big donor can buy political favour have spark call for a limit in a new report the electoral commission say it be worth debate a   cap for the future but now be not the right time to introduce it it also say there should be more state funding for political party and candidate should be able to spend more on election campaigning    there be almost m in report donation to political party in    and   with nearly m of them from individual gift worth more than m the rule have already be change so the public can see who give how much to the party but the report say there be still public suspicion the commission say capping donation would mean taxpayer give party more cash   something which would first have to be acceptable to the public and show to work while we be not in principle oppose to the introduction of a donation cap we do not believe that such a major departure from the exist system now would be sensible say its report if there be to be a cap it should be    a small enough amount to make a difference but which would have ban m in donation between   and    even without change the commission do urge political party to seek out more smallscale donation and suggest there should be income tax relief for gift under   it also suggest increase state funding for party to m so help can be extend to all party with at least two member in the house of commons european parliament scottish parliament welsh assembly or northern ireland assembly and it suggest new way of boost election campaigning see as a way of improve voter turnout all local election candidate should be entitle to a free mailshot for campaign leaflet say the watchdog and there should be a shift in the amount of money allow to be spend at election from a national level to a local level to help politician engage better with voter    the report suggest double the money which can be spend by candidate while cut national spending limit from m to m the commission also say the spending limit for general election should cover the four month before the poll   as happen with other election electoral commission chairman sam younger say there be no doubt that political party have a vital role to play in maintain the health of our democracy and for this they need to be adequately resource our research have show that people want to be more informed about party politic and that they want politician to be more visible and accessible the public be reluctant for the state to fund party but at the same time be unhappy with large private donation he call for a wide public debate on party funding to find the consensus need for radical change to the current system  '"
      ]
     },
     "execution_count": 18,
     "metadata": {},
     "output_type": "execute_result"
    }
   ],
   "source": [
    "df.loc[1]['cleaned_txt']"
   ]
  },
  {
   "cell_type": "code",
   "execution_count": 19,
   "metadata": {},
   "outputs": [],
   "source": [
    "df['cleaned_txt'] = df['cleaned_txt'].apply(tp.remove_stopwords)"
   ]
  },
  {
   "cell_type": "code",
   "execution_count": 20,
   "metadata": {},
   "outputs": [
    {
     "data": {
      "text/plain": [
       "'debate need donation cap cap donation political party introduce yet election watchdog say fear big donor buy political favour spark call limit new report electoral commission say worth debate cap future right time introduce also say state funding political party candidate able spend election campaigning almost report donation political party nearly individual gift worth rule already change public see give much party report say still public suspicion commission say capping donation would mean taxpayer give party cash something would first acceptable public show work principle oppose introduction donation cap believe major departure exist system would sensible say report cap small enough amount make difference would ban donation even without change commission urge political party seek smallscale donation suggest income tax relief gift also suggest increase state funding party help extend party least two member house commons european parliament scottish parliament welsh assembly northern ireland assembly suggest new way boost election campaigning see way improve voter turnout local election candidate entitle free mailshot campaign leaflet say watchdog shift amount money allow spend election national level local level help politician engage better voter report suggest double money spend candidate cut national spending limit commission also say spending limit general election cover four month poll happen election electoral commission chairman sam younger say doubt political party vital role play maintain health democracy need adequately resource research show people want informed party politic want politician visible accessible public reluctant state fund party time unhappy large private donation call wide public debate party funding find consensus need radical change current system'"
      ]
     },
     "execution_count": 20,
     "metadata": {},
     "output_type": "execute_result"
    }
   ],
   "source": [
    "df.loc[1]['cleaned_txt']"
   ]
  },
  {
   "cell_type": "markdown",
   "metadata": {},
   "source": [
    "### Label Encoding"
   ]
  },
  {
   "cell_type": "code",
   "execution_count": 21,
   "metadata": {},
   "outputs": [
    {
     "data": {
      "text/plain": [
       "array(['politics', 'sport', 'business', 'tech', 'entertainment'],\n",
       "      dtype=object)"
      ]
     },
     "execution_count": 21,
     "metadata": {},
     "output_type": "execute_result"
    }
   ],
   "source": [
    "df['category'].unique()"
   ]
  },
  {
   "cell_type": "code",
   "execution_count": 22,
   "metadata": {},
   "outputs": [],
   "source": [
    "category_codes = {\n",
    "    'business':0,\n",
    "    'entertainment':1,\n",
    "    'sport':2,\n",
    "    'politics':3,\n",
    "    'tech':4\n",
    "}"
   ]
  },
  {
   "cell_type": "code",
   "execution_count": 23,
   "metadata": {},
   "outputs": [],
   "source": [
    "df['category_code'] = df['category']\n",
    "df = df.replace({'category_code':category_codes})"
   ]
  },
  {
   "cell_type": "code",
   "execution_count": 24,
   "metadata": {},
   "outputs": [
    {
     "data": {
      "text/html": [
       "<div>\n",
       "<style scoped>\n",
       "    .dataframe tbody tr th:only-of-type {\n",
       "        vertical-align: middle;\n",
       "    }\n",
       "\n",
       "    .dataframe tbody tr th {\n",
       "        vertical-align: top;\n",
       "    }\n",
       "\n",
       "    .dataframe thead th {\n",
       "        text-align: right;\n",
       "    }\n",
       "</style>\n",
       "<table border=\"1\" class=\"dataframe\">\n",
       "  <thead>\n",
       "    <tr style=\"text-align: right;\">\n",
       "      <th></th>\n",
       "      <th>Unnamed: 0</th>\n",
       "      <th>contents</th>\n",
       "      <th>category</th>\n",
       "      <th>News_length</th>\n",
       "      <th>cleaned_txt</th>\n",
       "      <th>category_code</th>\n",
       "    </tr>\n",
       "  </thead>\n",
       "  <tbody>\n",
       "    <tr>\n",
       "      <th>0</th>\n",
       "      <td>0</td>\n",
       "      <td>Kilroy unveils immigration policy\\n\\nEx-chatsh...</td>\n",
       "      <td>politics</td>\n",
       "      <td>957</td>\n",
       "      <td>kilroy unveil immigration policy exchatshow ho...</td>\n",
       "      <td>3</td>\n",
       "    </tr>\n",
       "    <tr>\n",
       "      <th>1</th>\n",
       "      <td>1</td>\n",
       "      <td>'Debate needed' on donations cap\\n\\nA cap on d...</td>\n",
       "      <td>politics</td>\n",
       "      <td>3001</td>\n",
       "      <td>debate need donation cap cap donation politica...</td>\n",
       "      <td>3</td>\n",
       "    </tr>\n",
       "    <tr>\n",
       "      <th>2</th>\n",
       "      <td>2</td>\n",
       "      <td>Child access laws shake-up\\n\\nParents who refu...</td>\n",
       "      <td>politics</td>\n",
       "      <td>3536</td>\n",
       "      <td>child access law shakeup parent refuse allow f...</td>\n",
       "      <td>3</td>\n",
       "    </tr>\n",
       "    <tr>\n",
       "      <th>3</th>\n",
       "      <td>3</td>\n",
       "      <td>School sport 'is back', says PM\\n\\nTony Blair ...</td>\n",
       "      <td>politics</td>\n",
       "      <td>2410</td>\n",
       "      <td>school sport back say pm tony blair promise sp...</td>\n",
       "      <td>3</td>\n",
       "    </tr>\n",
       "    <tr>\n",
       "      <th>4</th>\n",
       "      <td>4</td>\n",
       "      <td>Pre-poll clash on tax and spend\\n\\nLabour and ...</td>\n",
       "      <td>politics</td>\n",
       "      <td>2637</td>\n",
       "      <td>prepoll clash tax spend labour tory clash tax ...</td>\n",
       "      <td>3</td>\n",
       "    </tr>\n",
       "  </tbody>\n",
       "</table>\n",
       "</div>"
      ],
      "text/plain": [
       "   Unnamed: 0                                           contents  category  \\\n",
       "0           0  Kilroy unveils immigration policy\\n\\nEx-chatsh...  politics   \n",
       "1           1  'Debate needed' on donations cap\\n\\nA cap on d...  politics   \n",
       "2           2  Child access laws shake-up\\n\\nParents who refu...  politics   \n",
       "3           3  School sport 'is back', says PM\\n\\nTony Blair ...  politics   \n",
       "4           4  Pre-poll clash on tax and spend\\n\\nLabour and ...  politics   \n",
       "\n",
       "   News_length                                        cleaned_txt  \\\n",
       "0          957  kilroy unveil immigration policy exchatshow ho...   \n",
       "1         3001  debate need donation cap cap donation politica...   \n",
       "2         3536  child access law shakeup parent refuse allow f...   \n",
       "3         2410  school sport back say pm tony blair promise sp...   \n",
       "4         2637  prepoll clash tax spend labour tory clash tax ...   \n",
       "\n",
       "   category_code  \n",
       "0              3  \n",
       "1              3  \n",
       "2              3  \n",
       "3              3  \n",
       "4              3  "
      ]
     },
     "execution_count": 24,
     "metadata": {},
     "output_type": "execute_result"
    }
   ],
   "source": [
    "df.head()"
   ]
  },
  {
   "cell_type": "markdown",
   "metadata": {},
   "source": [
    "### Split dataset into training and testing sets\n",
    "\n",
    "Sklearn documentation https://scikit-learn.org/stable/modules/generated/sklearn.model_selection.train_test_split.html"
   ]
  },
  {
   "cell_type": "code",
   "execution_count": 25,
   "metadata": {},
   "outputs": [],
   "source": [
    "X_train, X_test, Y_train, Y_test = train_test_split(df['cleaned_txt'], df['category_code'], \n",
    "                                                    test_size = 0.2, random_state=8)"
   ]
  },
  {
   "cell_type": "code",
   "execution_count": 26,
   "metadata": {},
   "outputs": [
    {
     "data": {
      "text/plain": [
       "(1779,)"
      ]
     },
     "execution_count": 26,
     "metadata": {},
     "output_type": "execute_result"
    }
   ],
   "source": [
    "X_train.shape"
   ]
  },
  {
   "cell_type": "code",
   "execution_count": 27,
   "metadata": {},
   "outputs": [
    {
     "data": {
      "text/plain": [
       "(445,)"
      ]
     },
     "execution_count": 27,
     "metadata": {},
     "output_type": "execute_result"
    }
   ],
   "source": [
    "X_test.shape\n"
   ]
  },
  {
   "cell_type": "markdown",
   "metadata": {},
   "source": [
    "### TF-IDF Vectors\n",
    "\n",
    "Sklearn TfidfVectorizer documentation\n",
    "https://scikit-learn.org/stable/modules/generated/sklearn.feature_extraction.text.TfidfVectorizer.html"
   ]
  },
  {
   "cell_type": "code",
   "execution_count": 28,
   "metadata": {},
   "outputs": [],
   "source": [
    "tfidf = TfidfVectorizer(encoding='utf-8',\n",
    "                       ngram_range=(1,2),\n",
    "                       lowercase=False,\n",
    "                       max_df=1.0,\n",
    "                       min_df=10,\n",
    "                       max_features=300,\n",
    "                       norm='l2',\n",
    "                       sublinear_tf=True)"
   ]
  },
  {
   "cell_type": "code",
   "execution_count": 29,
   "metadata": {},
   "outputs": [
    {
     "name": "stdout",
     "output_type": "stream",
     "text": [
      "(1779, 300)\n"
     ]
    }
   ],
   "source": [
    "train_features = tfidf.fit_transform(X_train).toarray()\n",
    "train_labels = Y_train\n",
    "print(train_features.shape)"
   ]
  },
  {
   "cell_type": "code",
   "execution_count": 30,
   "metadata": {},
   "outputs": [
    {
     "name": "stdout",
     "output_type": "stream",
     "text": [
      "(445, 300)\n"
     ]
    }
   ],
   "source": [
    "test_features = tfidf.transform(X_test).toarray()\n",
    "test_labels = Y_test\n",
    "print(test_features.shape)"
   ]
  },
  {
   "cell_type": "code",
   "execution_count": 31,
   "metadata": {},
   "outputs": [
    {
     "data": {
      "text/plain": [
       "array([[0.        , 0.        , 0.        , ..., 0.08569788, 0.07982272,\n",
       "        0.16548335],\n",
       "       [0.        , 0.        , 0.        , ..., 0.08514499, 0.07930774,\n",
       "        0.        ],\n",
       "       [0.        , 0.        , 0.        , ..., 0.        , 0.08057906,\n",
       "        0.16705136],\n",
       "       ...,\n",
       "       [0.        , 0.        , 0.        , ..., 0.        , 0.07167546,\n",
       "        0.14859298],\n",
       "       [0.        , 0.        , 0.        , ..., 0.05963794, 0.        ,\n",
       "        0.        ],\n",
       "       [0.        , 0.        , 0.        , ..., 0.19022694, 0.        ,\n",
       "        0.        ]])"
      ]
     },
     "execution_count": 31,
     "metadata": {},
     "output_type": "execute_result"
    }
   ],
   "source": [
    "train_features"
   ]
  },
  {
   "cell_type": "markdown",
   "metadata": {},
   "source": [
    "Save the objects in files"
   ]
  },
  {
   "cell_type": "code",
   "execution_count": 32,
   "metadata": {},
   "outputs": [],
   "source": [
    "# cleaned dataframe\n",
    "with open('pickles/cleaned_df.pickle', 'wb') as output:\n",
    "    pickle.dump(df, output)"
   ]
  },
  {
   "cell_type": "code",
   "execution_count": 33,
   "metadata": {},
   "outputs": [],
   "source": [
    "#X_train\n",
    "with open('pickles/X_train.pickle', 'wb') as output:\n",
    "    pickle.dump(X_train, output)"
   ]
  },
  {
   "cell_type": "code",
   "execution_count": 34,
   "metadata": {},
   "outputs": [],
   "source": [
    "#X_test\n",
    "with open('pickles/X_test.pickle', 'wb') as output:\n",
    "    pickle.dump(X_test, output)"
   ]
  },
  {
   "cell_type": "code",
   "execution_count": 35,
   "metadata": {},
   "outputs": [],
   "source": [
    "#Y_train\n",
    "with open('pickles/Y_train.pickle', 'wb') as output:\n",
    "    pickle.dump(Y_train, output)"
   ]
  },
  {
   "cell_type": "code",
   "execution_count": 36,
   "metadata": {},
   "outputs": [],
   "source": [
    "#Y_test\n",
    "with open('pickles/Y_test.pickle', 'wb') as output:\n",
    "    pickle.dump(Y_test, output)"
   ]
  },
  {
   "cell_type": "code",
   "execution_count": 37,
   "metadata": {},
   "outputs": [],
   "source": [
    "#train_features\n",
    "with open('pickles/train_features.pickle', 'wb') as output:\n",
    "    pickle.dump(train_features, output)"
   ]
  },
  {
   "cell_type": "code",
   "execution_count": 38,
   "metadata": {},
   "outputs": [],
   "source": [
    "#test_features\n",
    "with open('pickles/test_features.pickle', 'wb') as output:\n",
    "    pickle.dump(test_features, output)"
   ]
  },
  {
   "cell_type": "code",
   "execution_count": 39,
   "metadata": {},
   "outputs": [],
   "source": [
    "#train_labels\n",
    "with open('pickles/train_labels.pickle', 'wb') as output:\n",
    "    pickle.dump(train_labels, output)"
   ]
  },
  {
   "cell_type": "code",
   "execution_count": 40,
   "metadata": {},
   "outputs": [],
   "source": [
    "#test_labels\n",
    "with open('pickles/test_labels.pickle', 'wb') as output:\n",
    "    pickle.dump(test_labels, output)"
   ]
  },
  {
   "cell_type": "code",
   "execution_count": 41,
   "metadata": {},
   "outputs": [],
   "source": [
    "#tfidf\n",
    "with open('pickles/tfidf.pickle', 'wb') as output:\n",
    "    pickle.dump(tfidf, output)"
   ]
  },
  {
   "cell_type": "code",
   "execution_count": null,
   "metadata": {},
   "outputs": [],
   "source": []
  }
 ],
 "metadata": {
  "kernelspec": {
   "display_name": "Python 3",
   "language": "python",
   "name": "python3"
  },
  "language_info": {
   "codemirror_mode": {
    "name": "ipython",
    "version": 3
   },
   "file_extension": ".py",
   "mimetype": "text/x-python",
   "name": "python",
   "nbconvert_exporter": "python",
   "pygments_lexer": "ipython3",
   "version": "3.7.1"
  }
 },
 "nbformat": 4,
 "nbformat_minor": 2
}
